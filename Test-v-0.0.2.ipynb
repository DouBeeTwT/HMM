{
 "cells": [
  {
   "cell_type": "markdown",
   "metadata": {},
   "source": [
    "# Important Functions for HMM"
   ]
  },
  {
   "cell_type": "markdown",
   "metadata": {},
   "source": [
    "## 1 Created a new Obvious-line"
   ]
  },
  {
   "cell_type": "code",
   "execution_count": 25,
   "metadata": {},
   "outputs": [],
   "source": [
    "# Create new O-line\n",
    "# L(length):          the length of the Obvious-line\n",
    "# O(Obvious-line):    a string to save created Obvious-line\n",
    "# R(red)   :          price up\n",
    "# G(green) :          price down\n",
    "\n",
    "import numpy as np\n",
    "\n",
    "def Create_O(L):\n",
    "    Status = [\"G\",\"R\"]\n",
    "    O = \"\"\n",
    "    for i in range (L):\n",
    "        O = O+Status[np.random.randint(0,2)]\n",
    "    return O"
   ]
  },
  {
   "cell_type": "code",
   "execution_count": 40,
   "metadata": {},
   "outputs": [
    {
     "name": "stdout",
     "output_type": "stream",
     "text": [
      "O-line GRRGGGGRGRRGRRGGGGRRRRGRRRGRGRGGGGGGRGRRGGRRRGGGGR\n"
     ]
    }
   ],
   "source": [
    "Obline=Create_O(50)\n",
    "print(\"O-line\"),\n",
    "print(Obline)"
   ]
  },
  {
   "cell_type": "markdown",
   "metadata": {},
   "source": [
    "## 2 Vterbi Algorithm"
   ]
  },
  {
   "cell_type": "code",
   "execution_count": 89,
   "metadata": {},
   "outputs": [],
   "source": [
    "# Viterbi Algorithm(隐序列推测)\n",
    "# O(Obvious-line):      the Obvious-line we got at last step \n",
    "# LM(Launch Matrix):    a 2*2 matrix to save launch probability\n",
    "# CM(Change Matrix):    a 2*2 matrix to save change probability\n",
    "\n",
    "import numpy as np\n",
    "\n",
    "def Viterbi(O,LM,CM):\n",
    "    LM = np.log(LM)\n",
    "    CM = np.log(CM)\n",
    "    pi=[[1,1]]\n",
    "    for i in range (1,len(O)):\n",
    "        pi.append([0,0])\n",
    "        if O[i] == \"R\":\n",
    "            pi[i][0] = LM[0][0]+max(pi[i-1][0]+CM[0][0],pi[i-1][1]+CM[1][0])\n",
    "            pi[i][1] = LM[1][0]+max(pi[i-1][0]+CM[0][1],pi[i-1][1]+CM[1][1])\n",
    "        else:\n",
    "            pi[i][0] = LM[0][1]+max(pi[i-1][0]+CM[0][0],pi[i-1][1]+CM[1][0])\n",
    "            pi[i][1] = LM[1][1]+max(pi[i-1][0]+CM[0][1],pi[i-1][1]+CM[1][1])\n",
    "    \n",
    "    if pi[len(O)-1][0] >= pi[len(O)-1][1]:\n",
    "        H = \"U\";pr_H = \"U\"\n",
    "    else:\n",
    "        H = \"D\";pr_H = \"D\"\n",
    "    \n",
    "    for i in range (len(O)-2,-1,-1):\n",
    "        if pr_H == \"D\":\n",
    "            if pi[i][0]+CM[0][1] > pi[i][1]+CM[1][1]:\n",
    "                pr_H=\"U\"\n",
    "            else:\n",
    "                pr_H=\"D\"\n",
    "        if pr_H==\"U\":\n",
    "            if pi[i][0]+CM[0][0] > pi[i][1]+CM[1][0]:\n",
    "                pr_H=\"U\"\n",
    "            else:\n",
    "                pr_H=\"D\"\n",
    "        H=pr_H+H\n",
    "        \n",
    "    return H"
   ]
  },
  {
   "cell_type": "code",
   "execution_count": 41,
   "metadata": {},
   "outputs": [],
   "source": [
    "CM = [[0.6, 0.4], [0.45, 0.55]]\n",
    "LM = [[0.9, 0.1], [0.1, 0.9]]\n",
    "Hdline = Viterbi(Obline,LM,CM)"
   ]
  },
  {
   "cell_type": "code",
   "execution_count": 46,
   "metadata": {},
   "outputs": [
    {
     "name": "stdout",
     "output_type": "stream",
     "text": [
      "O-line:  GRRGGGGRGRRGRRGGGGRRRRGRRRGRGRGGGGGGRGRRGGRRRGGGGR\n",
      "H-line:  UUUDDDDUDUUDUUDDDDUUUUDUUUDUDUDDDDDDUDUUDDUUUDDDDU\n",
      "CM       [[0.6, 0.4], [0.45, 0.55]]\n",
      "LM       [[0.9, 0.1], [0.1, 0.9]]\n"
     ]
    }
   ],
   "source": [
    "print(\"O-line: \"),\n",
    "print(Obline)\n",
    "print(\"H-line: \"),\n",
    "print(Hdline)\n",
    "print(\"CM      \"),\n",
    "print(CM)\n",
    "print(\"LM      \"),\n",
    "print(LM)"
   ]
  },
  {
   "cell_type": "markdown",
   "metadata": {},
   "source": [
    "## 3 Baum-Welch Algorithm"
   ]
  },
  {
   "cell_type": "code",
   "execution_count": 90,
   "metadata": {},
   "outputs": [],
   "source": [
    "# Baum-Welch Algorithm(参数估计)\n",
    "# O(Obvious-line):      the Obvious-line we got at last step \n",
    "# LM(Launch Matrix):    a 2*2 matrix to save launch probability\n",
    "# CM(Change Matrix):    a 2*2 matrix to save change probability\n",
    "\n",
    "def F(x):\n",
    "    if x == \"U\":\n",
    "        return 0\n",
    "    else:\n",
    "        return 1\n",
    "    \n",
    "def f(x):\n",
    "    if x == \"R\":\n",
    "        return 0\n",
    "    else:\n",
    "        return 1\n",
    "        \n",
    "\n",
    "def BW(O):\n",
    "    CM = [[0.6, 0.4], [0.4, 0.6]]\n",
    "    LM = [[0.6, 0.4], [0.4, 0.6]]\n",
    "    C = [[0,0],[0,0]]\n",
    "    L = [[0,0],[0,0]]\n",
    "    n = 1\n",
    "    while (C !=CM or L != LM):\n",
    "        H = Viterbi(O,LM,CM)\n",
    "        print(\"Step \"),\n",
    "        print(n)\n",
    "        print(\"O-line: \"),\n",
    "        print(O)\n",
    "        print(\"H-line: \"),\n",
    "        print(H)\n",
    "        print(\"CM      \"),\n",
    "        print(CM)\n",
    "        print(\"LM      \"),\n",
    "        print(LM)\n",
    "        print(\"\\n\")\n",
    "        \n",
    "        n = n+1\n",
    "        for i in range (2):\n",
    "            C[i][0] = CM[i][0]\n",
    "            C[i][1] = CM[i][1]\n",
    "            L[i][0] = LM[i][0]\n",
    "            L[i][1] = LM[i][1]\n",
    "        for i in range(len(O)-1):\n",
    "            LM[F(H[i])][f(O[i])]+=1\n",
    "            CM[F(H[i])][F(H[i+1])]+=1\n",
    "        LM[F(H[len(O)-1])][f(O[len(O)-1])]+=1\n",
    "        for i in range (2):\n",
    "            x=LM[i][0]+LM[i][1]\n",
    "            LM[i][0] = round(LM[i][0]*1.0/x,5)\n",
    "            LM[i][1] = round(LM[i][1]*1.0/x,5)\n",
    "            x=CM[i][0]+CM[i][1]\n",
    "            CM[i][0] = round(CM[i][0]*1.0/x,5)\n",
    "            CM[i][1] = round(CM[i][1]*1.0/x,5)\n",
    "    return LM,CM"
   ]
  },
  {
   "cell_type": "code",
   "execution_count": 53,
   "metadata": {},
   "outputs": [
    {
     "ename": "NameError",
     "evalue": "name 'Create_O' is not defined",
     "output_type": "error",
     "traceback": [
      "\u001b[1;31m---------------------------------------------------------------------------\u001b[0m",
      "\u001b[1;31mNameError\u001b[0m                                 Traceback (most recent call last)",
      "\u001b[1;32m<ipython-input-53-529786689f87>\u001b[0m in \u001b[0;36m<module>\u001b[1;34m()\u001b[0m\n\u001b[1;32m----> 1\u001b[1;33m \u001b[0mBW\u001b[0m\u001b[1;33m(\u001b[0m\u001b[0mCreate_O\u001b[0m\u001b[1;33m(\u001b[0m\u001b[1;36m100\u001b[0m\u001b[1;33m)\u001b[0m\u001b[1;33m)\u001b[0m\u001b[1;33m\u001b[0m\u001b[0m\n\u001b[0m",
      "\u001b[1;31mNameError\u001b[0m: name 'Create_O' is not defined"
     ]
    }
   ],
   "source": [
    "BW(Create_O(100))"
   ]
  },
  {
   "cell_type": "markdown",
   "metadata": {},
   "source": [
    "## 4 Test in Real Stock Data"
   ]
  },
  {
   "cell_type": "code",
   "execution_count": 86,
   "metadata": {},
   "outputs": [],
   "source": [
    "import csv\n",
    "Data = []\n",
    "with open('600000.csv','rb') as f:\n",
    "    reader = csv.reader(f)\n",
    "    for row in reader:\n",
    "        Data.append(row)\n",
    "O = \"\"\n",
    "Price = []\n",
    "for i in range(len(Data)-1):\n",
    "    if(Data[i+1][1]!=\"null\" and Data[i+1][4]!=\"null\"):\n",
    "        Price.append(Data[i+1][4])\n",
    "        if (float(Data[i+1][1])-float(Data[i+1][4])>=0):\n",
    "            O = O + \"R\"\n",
    "        else:\n",
    "            O = O + \"G\""
   ]
  },
  {
   "cell_type": "code",
   "execution_count": 91,
   "metadata": {},
   "outputs": [
    {
     "name": "stdout",
     "output_type": "stream",
     "text": [
      "Step  1\n",
      "O-line:  RGGRRGRRRRRGGRGGRGRRRRGRGGRRRRRRGRGRRRRGRGGGRRRRGRRGRRGRGGGGGGGGGGGGGRRRRGRRGRGRGRGRGRGRRGRRGGRGGRGRRGRGRGGGRRRGGRGRGGRGGRGGGGGGRRRRGRGRGGGRGGRRRGRGRGGRRGGGGRRRGRGRRRRGRGRRGRGGRGRRGRRRGRGRGRRRRRRGRRGR\n",
      "H-line:  DDDUUUUUUUUDDDDDDDUUUUDDDDUUUUUUUUUUUUUDDDDDUUUUUUUUUUDDDDDDDDDDDDDDDUUUUUUUUUUUUUUUUUUUUUUUDDDDDDDDDDDDDDDDUUUDDDDDDDDDDDDDDDDDUUUUDDDDDDDDDDUUUDDDDDDDDDDDDUUUUUUUUUUUUUUUDDDDDDUUUUUUUUUUUUUUUUUUUUUU\n",
      "CM       [[0.6, 0.4], [0.4, 0.6]]\n",
      "LM       [[0.6, 0.4], [0.4, 0.6]]\n",
      "\n",
      "\n",
      "Step  2\n",
      "O-line:  RGGRRGRRRRRGGRGGRGRRRRGRGGRRRRRRGRGRRRRGRGGGRRRRGRRGRRGRGGGGGGGGGGGGGRRRRGRRGRGRGRGRGRGRRGRRGGRGGRGRRGRGRGGGRRRGGRGRGGRGGRGGGGGGRRRRGRGRGGGRGGRRRGRGRGGRRGGGGRRRGRGRRRRGRGRRGRGGRGRRGRRRGRGRGRRRRRRGRRGR\n",
      "H-line:  DDDUUUUUUUUUUUUUUUUUUUUUUUUUUUUUUUUUUUUUUUUUUUUUUUUUUUDDDDDDDDDDDDDDDUUUUUUUUUUUUUUUUUUUUUUUDDDDDDDDDDDDDDDDDDDDDDDDDDDDDDDDDDDDDDDDDDDDDDDDDDDDDDDDDDDDDDDDDUUUUUUUUUUUUUUUUUUUUUUUUUUUUUUUUUUUUUUUUUUU\n",
      "CM       [[0.91048, 0.08952], [0.10833, 0.89167]]\n",
      "LM       [[0.77925, 0.22075], [0.26458, 0.73542]]\n",
      "\n",
      "\n",
      "Step  3\n",
      "O-line:  RGGRRGRRRRRGGRGGRGRRRRGRGGRRRRRRGRGRRRRGRGGGRRRRGRRGRRGRGGGGGGGGGGGGGRRRRGRRGRGRGRGRGRGRRGRRGGRGGRGRRGRGRGGGRRRGGRGRGGRGGRGGGGGGRRRRGRGRGGGRGGRRRGRGRGGRRGGGGRRRGRGRRRRGRGRRGRGGRGRRGRRRGRGRGRRRRRRGRRGR\n",
      "H-line:  UUUUUUUUUUUUUUUUUUUUUUUUUUUUUUUUUUUUUUUUUUUUUUUUUUUUUUUUDDDDDDDDDDDDDDDDDDDDDDDDDDDDDDDDDDDDDDDDDDDDDDDDDDDDDDDDDDDDDDDDDDDDDDDDDDDDDDDDDDDDDDDDDDDDDDDDDDDDDUUUUUUUUUUUUUUUUUUUUUUUUUUUUUUUUUUUUUUUUUUU\n",
      "CM       [[0.98214, 0.01786], [0.037, 0.963]]\n",
      "LM       [[0.66762, 0.33238], [0.34839, 0.65161]]\n",
      "\n",
      "\n",
      "Step  4\n",
      "O-line:  RGGRRGRRRRRGGRGGRGRRRRGRGGRRRRRRGRGRRRRGRGGGRRRRGRRGRRGRGGGGGGGGGGGGGRRRRGRRGRGRGRGRGRGRRGRRGGRGGRGRRGRGRGGGRRRGGRGRGGRGGRGGGGGGRRRRGRGRGGGRGGRRRGRGRGGRRGGGGRRRGRGRRRRGRGRRGRGGRGRRGRRRGRGRGRRRRRRGRRGR\n",
      "H-line:  UUUUUUUUUUUUUUUUUUUUUUUUUUUUUUUUUUUUUUUUUUUUUUUUUUUUUUDDDDDDDDDDDDDDDDDDDDDDDDDDDDDDDDDDDDDDDDDDDDDDDDDDDDDDDDDDDDDDDDDDDDDDDDDDDDDDDDDDDDDDDDDDDDDDDDDDDDDDDUUUUUUUUUUUUUUUUUUUUUUUUUUUUUUUUUUUUUUUUUUU\n",
      "CM       [[0.98972, 0.01028], [0.01017, 0.98983]]\n",
      "LM       [[0.65668, 0.34332], [0.41518, 0.58482]]\n",
      "\n",
      "\n",
      "Step  5\n",
      "O-line:  RGGRRGRRRRRGGRGGRGRRRRGRGGRRRRRRGRGRRRRGRGGGRRRRGRRGRRGRGGGGGGGGGGGGGRRRRGRRGRGRGRGRGRGRRGRRGGRGGRGRRGRGRGGGRRRGGRGRGGRGGRGGGGGGRRRRGRGRGGGRGGRRRGRGRGGRRGGGGRRRGRGRRRRGRGRRGRGGRGRRGRRRGRGRGRRRRRRGRRGR\n",
      "H-line:  UUUUUUUUUUUUUUUUUUUUUUUUUUUUUUUUUUUUUUUUUUUUUUUUUUUUUUDDDDDDDDDDDDDDDDDDDDDDDDDDDDDDDDDDDDDDDDDDDDDDDDDDDDDDDDDDDDDDDDDDDDDDDDDDDDDDDDDDDDDDDDDDDDDDDDDDDDDDDUUUUUUUUUUUUUUUUUUUUUUUUUUUUUUUUUUUUUUUUUUU\n",
      "CM       [[0.98958, 0.01042], [0.00971, 0.99029]]\n",
      "LM       [[0.65976, 0.34024], [0.41745, 0.58255]]\n",
      "\n",
      "\n",
      "Step  6\n",
      "O-line:  RGGRRGRRRRRGGRGGRGRRRRGRGGRRRRRRGRGRRRRGRGGGRRRRGRRGRRGRGGGGGGGGGGGGGRRRRGRRGRGRGRGRGRGRRGRRGGRGGRGRRGRGRGGGRRRGGRGRGGRGGRGGGGGGRRRRGRGRGGGRGGRRRGRGRGGRRGGGGRRRGRGRRRRGRGRRGRGGRGRRGRRRGRGRGRRRRRRGRRGR\n",
      "H-line:  UUUUUUUUUUUUUUUUUUUUUUUUUUUUUUUUUUUUUUUUUUUUUUUUUUUUUUDDDDDDDDDDDDDDDDDDDDDDDDDDDDDDDDDDDDDDDDDDDDDDDDDDDDDDDDDDDDDDDDDDDDDDDDDDDDDDDDDDDDDDDDDDDDDDDDDDDDDDDUUUUUUUUUUUUUUUUUUUUUUUUUUUUUUUUUUUUUUUUUUU\n",
      "CM       [[0.98958, 0.01042], [0.00971, 0.99029]]\n",
      "LM       [[0.65979, 0.34021], [0.41748, 0.58252]]\n",
      "\n",
      "\n"
     ]
    },
    {
     "data": {
      "image/png": "[encoded data removed]",
      "text/plain": [
       "<matplotlib.figure.Figure at 0x80f7048>"
      ]
     },
     "metadata": {},
     "output_type": "display_data"
    }
   ],
   "source": [
    "import matplotlib.pyplot as plt\n",
    "LM,CM = BW(O[0:200])\n",
    "#CM = [[0.6, 0.4], [0.45, 0.55]]\n",
    "#LM = [[0.9, 0.1], [0.1, 0.9]]\n",
    "Hdline = Viterbi(O,LM,CM)\n",
    "for i in range (len(O)):\n",
    "    if Hdline[i] == \"U\":\n",
    "        plt.plot([i],[Price[i]],'ro')\n",
    "    elif Hdline[i] == \"D\":\n",
    "        plt.plot([i],[Price[i]],'go')\n",
    "plt.show()"
   ]
  },
  {
   "cell_type": "code",
   "execution_count": 71,
   "metadata": {},
   "outputs": [
    {
     "data": {
      "text/plain": [
       "array([[-0.51082562, -0.91629073],\n",
       "       [-0.7985077 , -0.597837  ]])"
      ]
     },
     "execution_count": 71,
     "metadata": {},
     "output_type": "execute_result"
    }
   ],
   "source": [
    "# Test\n",
    "import numpy as np\n",
    "CM = [[0.6, 0.4], [0.45, 0.55]]\n",
    "np.log(CM)"
   ]
  },
  {
   "cell_type": "code",
   "execution_count": 72,
   "metadata": {},
   "outputs": [
    {
     "data": {
      "text/plain": [
       "-0.5108256237659907"
      ]
     },
     "execution_count": 72,
     "metadata": {},
     "output_type": "execute_result"
    }
   ],
   "source": [
    "np.log(0.6)"
   ]
  }
 ],
 "metadata": {
  "kernelspec": {
   "display_name": "Python 2",
   "language": "python",
   "name": "python2"
  },
  "language_info": {
   "codemirror_mode": {
    "name": "ipython",
    "version": 2
   },
   "file_extension": ".py",
   "mimetype": "text/x-python",
   "name": "python",
   "nbconvert_exporter": "python",
   "pygments_lexer": "ipython2",
   "version": "2.7.14"
  }
 },
 "nbformat": 4,
 "nbformat_minor": 2
}
