{
 "cells": [
  {
   "cell_type": "code",
   "execution_count": 1,
   "metadata": {},
   "outputs": [
    {
     "data": {
      "text/plain": [
       "<matplotlib.figure.Figure at 0x65690b8>"
      ]
     },
     "metadata": {},
     "output_type": "display_data"
    },
    {
     "data": {
      "text/plain": [
       "<matplotlib.figure.Figure at 0x6518b00>"
      ]
     },
     "metadata": {},
     "output_type": "display_data"
    }
   ],
   "source": [
    "# Viterbi Algorithm(隐序列推测)\n",
    "# O(Obvious-line):      the Obvious-line we got at last step \n",
    "# LM(Launch Matrix):    a 2*2 matrix to save launch probability\n",
    "# CM(Change Matrix):    a 2*2 matrix to save change probability\n",
    "\n",
    "import numpy as np\n",
    "\n",
    "def Viterbi(O,LM,CM):\n",
    "    LM = np.log(LM)\n",
    "    CM = np.log(CM)\n",
    "    pi=[[1,1]]\n",
    "    for i in range (1,len(O)):\n",
    "        pi.append([0,0])\n",
    "        if O[i] == \"R\":\n",
    "            pi[i][0] = LM[0][0]+max(pi[i-1][0]+CM[0][0],pi[i-1][1]+CM[1][0])\n",
    "            pi[i][1] = LM[1][0]+max(pi[i-1][0]+CM[0][1],pi[i-1][1]+CM[1][1])\n",
    "        else:\n",
    "            pi[i][0] = LM[0][1]+max(pi[i-1][0]+CM[0][0],pi[i-1][1]+CM[1][0])\n",
    "            pi[i][1] = LM[1][1]+max(pi[i-1][0]+CM[0][1],pi[i-1][1]+CM[1][1])\n",
    "    \n",
    "    if pi[len(O)-1][0] >= pi[len(O)-1][1]:\n",
    "        H = \"U\";pr_H = \"U\"\n",
    "    else:\n",
    "        H = \"D\";pr_H = \"D\"\n",
    "    \n",
    "    for i in range (len(O)-2,-1,-1):\n",
    "        if pr_H == \"D\":\n",
    "            if pi[i][0]+CM[0][1] > pi[i][1]+CM[1][1]:\n",
    "                pr_H=\"U\"\n",
    "            else:\n",
    "                pr_H=\"D\"\n",
    "        if pr_H==\"U\":\n",
    "            if pi[i][0]+CM[0][0] > pi[i][1]+CM[1][0]:\n",
    "                pr_H=\"U\"\n",
    "            else:\n",
    "                pr_H=\"D\"\n",
    "        H=pr_H+H\n",
    "        \n",
    "    return H\n",
    "\n",
    "import csv\n",
    "Data = []\n",
    "with open('600000.csv','rb') as ff:\n",
    "    reader = csv.reader(ff)\n",
    "    for row in reader:\n",
    "        Data.append(row)\n",
    "O = \"\"\n",
    "Price = []\n",
    "Rate0 = []\n",
    "for i in range(len(Data)-2):\n",
    "    if(Data[i+2][4]!=\"null\" and Data[i+1][4]!=\"null\"):\n",
    "        Price.append(Data[i+1][4])\n",
    "        Rate0.append(float(Data[i+2][4])/float(Data[i+1][4]))\n",
    "        if (float(Data[i+2][4])-float(Data[i+1][4])>=0):\n",
    "            O = O + \"R\"\n",
    "        else:\n",
    "            O = O + \"G\"\n",
    "            \n",
    "import matplotlib.pyplot as plt\n",
    "days = 4000\n",
    "Hdline = Viterbi(O,[[0.6, 0.4], [0.4, 0.6]],[[0.6, 0.4], [0.4, 0.6]])\n",
    "fig, ax = plt.subplots(figsize=(16, 4))\n",
    "for i in range (len(O[0:days])):\n",
    "    if Hdline[i] == \"U\":\n",
    "        ax.plot([i],[Price[i]],'ro')\n",
    "    elif Hdline[i] == \"D\":\n",
    "        ax.plot([i],[Price[i]],'go')\n",
    "plt.show()\n",
    "#图像化显示计算出的涨跌区间\n",
    "\n",
    "fig, ax = plt.subplots(figsize=(16, 4))\n",
    "Price_my = [1]\n",
    "flag = False\n",
    "for i in range (1,len(O[0:days])+1):\n",
    "    if flag == False:\n",
    "        Price_my.append(Price_my[len(Price_my)-1]*1.0)\n",
    "    else:\n",
    "        Price_my.append(Price_my[len(Price_my)-1]*Rate0[i])\n",
    "    if Hdline[i-1] == \"U\" and  Hdline[i] == \"D\":\n",
    "        flag = False\n",
    "    elif Hdline[i-1] == \"D\" and Hdline[i] == \"U\":\n",
    "        flag = True\n",
    "ax.plot(Price_my,'b')\n",
    "#Price_my = [1]\n",
    "#for i in range (1,len(O[0:days])+1):\n",
    "#    if O[i] == 'R':\n",
    "#        Price_my.append(Price_my[len(Price_my)-1]*Rate0[i])\n",
    "#    else:\n",
    "#        Price_my.append(Price_my[len(Price_my)-1]*1.0)\n",
    "#ax.plot(Price_my,'k')\n",
    "plt.show()\n",
    "#依照此涨跌去购买的收益曲线"
   ]
  }
 ],
 "metadata": {
  "kernelspec": {
   "display_name": "Python 2",
   "language": "python",
   "name": "python2"
  },
  "language_info": {
   "codemirror_mode": {
    "name": "ipython",
    "version": 2
   },
   "file_extension": ".py",
   "mimetype": "text/x-python",
   "name": "python",
   "nbconvert_exporter": "python",
   "pygments_lexer": "ipython2",
   "version": "2.7.14"
  }
 },
 "nbformat": 4,
 "nbformat_minor": 2
}
