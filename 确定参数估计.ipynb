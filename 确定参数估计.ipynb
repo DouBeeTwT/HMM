{
 "cells": [
  {
   "cell_type": "code",
   "execution_count": 5,
   "metadata": {},
   "outputs": [
    {
     "data": {
      "image/png": "[encoded data removed]",
      "text/plain": [
       "<matplotlib.figure.Figure at 0x7dfffd0>"
      ]
     },
     "metadata": {},
     "output_type": "display_data"
    },
    {
     "data": {
      "image/png": "[encoded data removed]",
      "text/plain": [
       "<matplotlib.figure.Figure at 0x7dff898>"
      ]
     },
     "metadata": {},
     "output_type": "display_data"
    }
   ],
   "source": [
    "# Viterbi Algorithm(隐序列推测)\n",
    "# O(Obvious-line):      the Obvious-line we got at last step \n",
    "# LM(Launch Matrix):    a 2*2 matrix to save launch probability\n",
    "# CM(Change Matrix):    a 2*2 matrix to save change probability\n",
    "\n",
    "import numpy as np\n",
    "\n",
    "def Viterbi(O,LM,CM):\n",
    "    LM = np.log(LM)\n",
    "    CM = np.log(CM)\n",
    "    pi=[[1,1]]\n",
    "    for i in range (1,len(O)):\n",
    "        pi.append([0,0])\n",
    "        if O[i] == \"R\":\n",
    "            pi[i][0] = LM[0][0]+max(pi[i-1][0]+CM[0][0],pi[i-1][1]+CM[1][0])\n",
    "            pi[i][1] = LM[1][0]+max(pi[i-1][0]+CM[0][1],pi[i-1][1]+CM[1][1])\n",
    "        else:\n",
    "            pi[i][0] = LM[0][1]+max(pi[i-1][0]+CM[0][0],pi[i-1][1]+CM[1][0])\n",
    "            pi[i][1] = LM[1][1]+max(pi[i-1][0]+CM[0][1],pi[i-1][1]+CM[1][1])\n",
    "    \n",
    "    if pi[len(O)-1][0] >= pi[len(O)-1][1]:\n",
    "        H = \"U\";pr_H = \"U\"\n",
    "    else:\n",
    "        H = \"D\";pr_H = \"D\"\n",
    "    \n",
    "    for i in range (len(O)-2,-1,-1):\n",
    "        if pr_H == \"D\":\n",
    "            if pi[i][0]+CM[0][1] > pi[i][1]+CM[1][1]:\n",
    "                pr_H=\"U\"\n",
    "            else:\n",
    "                pr_H=\"D\"\n",
    "        if pr_H==\"U\":\n",
    "            if pi[i][0]+CM[0][0] > pi[i][1]+CM[1][0]:\n",
    "                pr_H=\"U\"\n",
    "            else:\n",
    "                pr_H=\"D\"\n",
    "        H=pr_H+H\n",
    "        \n",
    "    return H\n",
    "\n",
    "import csv\n",
    "Data = []\n",
    "with open('600000.csv','rb') as ff:\n",
    "    reader = csv.reader(ff)\n",
    "    for row in reader:\n",
    "        Data.append(row)\n",
    "O = \"\"\n",
    "Price = []\n",
    "Rate0 = []\n",
    "for i in range(len(Data)-2):\n",
    "    if(Data[i+2][4]!=\"null\" and Data[i+1][4]!=\"null\"):\n",
    "        Price.append(Data[i+1][4])\n",
    "        Rate0.append(float(Data[i+2][4])/float(Data[i+1][4]))\n",
    "        if (float(Data[i+2][4])-float(Data[i+1][4])>=0):\n",
    "            O = O + \"R\"\n",
    "        else:\n",
    "            O = O + \"G\"\n",
    "            \n",
    "import matplotlib.pyplot as plt\n",
    "days = 300\n",
    "Hdline = Viterbi(O,[[0.6, 0.4], [0.4, 0.6]],[[0.6, 0.4], [0.4, 0.6]])\n",
    "fig, ax = plt.subplots(figsize=(16, 4))\n",
    "for i in range (len(O)-days-1,len(O)-1):\n",
    "    if Hdline[i] == \"U\":\n",
    "        ax.plot([i],[Price[i]],'ro')\n",
    "    elif Hdline[i] == \"D\":\n",
    "        ax.plot([i],[Price[i]],'go')\n",
    "plt.show()\n",
    "#图像化显示计算出的涨跌区间\n",
    "\n",
    "fig, ax = plt.subplots(figsize=(16, 4))\n",
    "Price_my = [1]\n",
    "flag = False\n",
    "for i in range (len(O)-days,len(O)):\n",
    "    if flag == False:\n",
    "        Price_my.append(Price_my[len(Price_my)-1]*1.0)\n",
    "    else:\n",
    "        Price_my.append(Price_my[len(Price_my)-1]*Rate0[i])\n",
    "    if Hdline[i-1] == \"U\" and  Hdline[i] == \"D\":\n",
    "        flag = False\n",
    "    elif Hdline[i-1] == \"D\" and Hdline[i] == \"U\":\n",
    "        flag = True\n",
    "ax.plot(Price_my,'b')\n",
    "#Price_my = [1]\n",
    "#for i in range (1,len(O[0:days])+1):\n",
    "#    if O[i] == 'R':\n",
    "#        Price_my.append(Price_my[len(Price_my)-1]*Rate0[i])\n",
    "#    else:\n",
    "#        Price_my.append(Price_my[len(Price_my)-1]*1.0)\n",
    "#ax.plot(Price_my,'k')\n",
    "plt.show()\n",
    "#依照此涨跌去购买的收益曲线"
   ]
  },
  {
   "cell_type": "code",
   "execution_count": 54,
   "metadata": {},
   "outputs": [],
   "source": [
    "import csv\n",
    "\n",
    "def main(filename):\n",
    "    Data = []\n",
    "    with open(filename,'rb') as ff:\n",
    "        reader = csv.reader(ff)\n",
    "        for row in reader:\n",
    "            Data.append(row)\n",
    "    O = \"\"\n",
    "    Price = []\n",
    "    Rate0 = []\n",
    "    for i in range(len(Data)-2):\n",
    "        if(Data[i+2][4]!=\"null\" and Data[i+1][4]!=\"null\"):\n",
    "            Price.append(Data[i+1][4])\n",
    "            Rate0.append(float(Data[i+2][4])/float(Data[i+1][4]))\n",
    "            if (float(Data[i+2][4])-float(Data[i+1][4])>=0):\n",
    "                O = O + \"R\"\n",
    "            else:\n",
    "                O = O + \"G\"\n",
    "            \n",
    "    days = 300\n",
    "    Hdline = Viterbi(O,[[0.6, 0.4], [0.4, 0.6]],[[0.6, 0.4], [0.4, 0.6]])\n",
    "\n",
    "    Price_my = 1\n",
    "    flag = False\n",
    "    for i in range (len(O)-days,len(O)):\n",
    "        if flag == False:\n",
    "            Price_my = Price_my*1.0\n",
    "        else:\n",
    "            Price_my = Price_my*Rate0[i]\n",
    "        if Hdline[i-1] == \"U\" and  Hdline[i] == \"D\":\n",
    "            flag = False\n",
    "        elif Hdline[i-1] == \"D\" and Hdline[i] == \"U\":\n",
    "            flag = True\n",
    "    print(\"%-11.6s %-11.2f %-11.2f %-11.2f\"%(filename,round(Price_my,2),float(Data[len(O)-1][4])/float(Data[len(O)-1-days][4]),right(O)))"
   ]
  },
  {
   "cell_type": "code",
   "execution_count": 53,
   "metadata": {},
   "outputs": [],
   "source": [
    "def F(x):\n",
    "    if x == 'U':\n",
    "        return 0\n",
    "    else:\n",
    "        return 1\n",
    "    \n",
    "def f(x):\n",
    "    if x == 'R':\n",
    "        return 0\n",
    "    else:\n",
    "        return 1\n",
    "def right(O):\n",
    "    t_num=0\n",
    "    f_num=0\n",
    "    for i in range(len(O)-days,len(O)):\n",
    "        if f(O[i]) == F(Hdline[i]):\n",
    "            t_num=t_num+1\n",
    "        else:\n",
    "            f_num=f_num+1\n",
    "    return float(t_num)/float(f_num+t_num)\n",
    "\n",
    "def result(f_list):\n",
    "    print(\"%-15s %-15s %-15s %-15s\"%(\"股票代码\",\"投资收益\",\"实际涨幅\",\"准确率\"))\n",
    "    for i in range (len(f_list)):\n",
    "        main(f_list[i])"
   ]
  },
  {
   "cell_type": "code",
   "execution_count": 57,
   "metadata": {},
   "outputs": [
    {
     "name": "stdout",
     "output_type": "stream",
     "text": [
      "股票代码    投资收益    实际涨幅    准确率      \n",
      "600000      1.44        0.97        0.78       \n",
      "600004      2.12        1.62        0.48       \n",
      "600288      2.16        0.57        0.49       \n",
      "600318      1.40        0.78        0.48       \n",
      "600519      2.33        1.85        0.51       \n"
     ]
    }
   ],
   "source": [
    "result(['600000.csv','600004.csv','600288.csv','600318.csv','600519.csv'])"
   ]
  }
 ],
 "metadata": {
  "kernelspec": {
   "display_name": "Python 2",
   "language": "python",
   "name": "python2"
  },
  "language_info": {
   "codemirror_mode": {
    "name": "ipython",
    "version": 2
   },
   "file_extension": ".py",
   "mimetype": "text/x-python",
   "name": "python",
   "nbconvert_exporter": "python",
   "pygments_lexer": "ipython2",
   "version": "2.7.13"
  }
 },
 "nbformat": 4,
 "nbformat_minor": 2
}
